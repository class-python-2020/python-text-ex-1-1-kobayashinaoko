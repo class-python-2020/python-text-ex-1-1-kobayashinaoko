{
 "metadata": {
  "language_info": {
   "codemirror_mode": {
    "name": "ipython",
    "version": 3
   },
   "file_extension": ".py",
   "mimetype": "text/x-python",
   "name": "python",
   "nbconvert_exporter": "python",
   "pygments_lexer": "ipython3",
   "version": 3
  },
  "orig_nbformat": 2,
  "kernelspec": {
   "name": "python_defaultSpec_1597282960137",
   "display_name": "Python 3.8.2 32-bit"
  }
 },
 "nbformat": 4,
 "nbformat_minor": 2,
 "cells": [
  {
   "cell_type": "code",
   "execution_count": 5,
   "metadata": {
    "tags": []
   },
   "outputs": [
    {
     "output_type": "stream",
     "name": "stdout",
     "text": "animal: cat\nanimal in my_func: cat\nvegetable in_the_func: carrot\n"
    }
   ],
   "source": [
    "\n",
    "animal = 'cat'\n",
    "\n",
    "print(\"animal:\",animal)\n",
    "\n",
    "def my_func():\n",
    "    \n",
    "    vegetable = 'carrot'\n",
    "    \n",
    "    print(\"animal in my_func:\", animal)\n",
    "    \n",
    "    print(\"vegetable in_the_func:\", vegetable)\n",
    "\n",
    "my_func()"
   ]
  },
  {
   "cell_type": "code",
   "execution_count": 6,
   "metadata": {},
   "outputs": [
    {
     "output_type": "error",
     "ename": "NameError",
     "evalue": "name 'vegetable' is not defined",
     "traceback": [
      "\u001b[1;31m---------------------------------------------------------------------------\u001b[0m",
      "\u001b[1;31mNameError\u001b[0m                                 Traceback (most recent call last)",
      "\u001b[1;32m<ipython-input-6-ecb8b2d0d4af>\u001b[0m in \u001b[0;36m<module>\u001b[1;34m\u001b[0m\n\u001b[1;32m----> 1\u001b[1;33m \u001b[0mprint\u001b[0m\u001b[1;33m(\u001b[0m\u001b[1;34m\"vegetable:\"\u001b[0m\u001b[1;33m,\u001b[0m \u001b[0mvegetable\u001b[0m\u001b[1;33m)\u001b[0m\u001b[1;33m\u001b[0m\u001b[1;33m\u001b[0m\u001b[0m\n\u001b[0m",
      "\u001b[1;31mNameError\u001b[0m: name 'vegetable' is not defined"
     ]
    }
   ],
   "source": [
    "print(\"vegetable:\", vegetable)"
   ]
  },
  {
   "cell_type": "code",
   "execution_count": 1,
   "metadata": {
    "tags": []
   },
   "outputs": [
    {
     "output_type": "stream",
     "name": "stdout",
     "text": "animal: cat\nanimal in my_func: dog\nanimal global after my_func: cat\n"
    }
   ],
   "source": [
    "\n",
    "animal = 'cat'\n",
    "print(\"animal:\",animal)\n",
    "\n",
    "def my_func():\n",
    "    animal = 'dog'\n",
    "    print(\"animal in my_func:\", animal)\n",
    "\n",
    "my_func()\n",
    "\n",
    "print(\"animal global after my_func:\", animal)"
   ]
  },
  {
   "cell_type": "code",
   "execution_count": 7,
   "metadata": {
    "tags": []
   },
   "outputs": [
    {
     "output_type": "stream",
     "name": "stdout",
     "text": "animal: cat\nanimal in my_func_alter: dog\nanimal global after my_func_alter: dog\n"
    }
   ],
   "source": [
    "animal = 'cat'\n",
    "print(\"animal:\", animal)\n",
    "\n",
    "def my_func_alter():\n",
    "    global animal\n",
    "    animal = 'dog'\n",
    "    print(\"animal in my_func_alter:\", animal)\n",
    "\n",
    "my_func_alter()\n",
    "\n",
    "print(\"animal global after my_func_alter:\", animal)"
   ]
  },
  {
   "cell_type": "code",
   "execution_count": 8,
   "metadata": {},
   "outputs": [],
   "source": [
    "vote_num = 0\n",
    "def vote():\n",
    "    print(\"投票します\")\n",
    "    global vote_num\n",
    "    vote_num += 1\n",
    "\n",
    "def reset_box():\n",
    "    global vote_num\n",
    "    print(\"箱を空にする\")\n",
    "    vote_num = 0\n",
    "\n",
    "def check_box():\n",
    "    global vote_num\n",
    "    print(\"票の数は {} です\".format(vote_num))"
   ]
  },
  {
   "cell_type": "code",
   "execution_count": 9,
   "metadata": {
    "tags": []
   },
   "outputs": [
    {
     "output_type": "stream",
     "name": "stdout",
     "text": "投票します\n票の数は 1 です\n投票します\n票の数は 2 です\n投票します\n投票します\n投票します\n票の数は 5 です\n箱を空にする\n票の数は 0 です\n"
    }
   ],
   "source": [
    "vote()\n",
    "check_box()\n",
    "vote()\n",
    "check_box()\n",
    "for i in range(3):\n",
    "    vote()\n",
    "check_box()\n",
    "reset_box()\n",
    "check_box()"
   ]
  },
  {
   "cell_type": "code",
   "execution_count": 10,
   "metadata": {},
   "outputs": [],
   "source": [
    "vote_num = 0\n",
    "\n",
    "def vote(vote_n):\n",
    "    print(\"投票します\")\n",
    "    vote_n += 1\n",
    "    return vote_n\n",
    "\n",
    "def reset_box(vote_n):\n",
    "    print(\"箱を空にします\")\n",
    "    vote_n = 0\n",
    "    return vote_n\n",
    "\n",
    "def check_box(vote_n):\n",
    "    print(\"票の数は {} です\".format(vote_n))\n",
    "    return"
   ]
  },
  {
   "cell_type": "code",
   "execution_count": 11,
   "metadata": {
    "tags": []
   },
   "outputs": [
    {
     "output_type": "stream",
     "name": "stdout",
     "text": "投票します\n票の数は 1 です\n票の数は 1 です\n投票します\n投票します\n投票します\n票の数は 4 です\n箱を空にします\n票の数は 0 です\n"
    }
   ],
   "source": [
    "vote_num = vote(vote_num)\n",
    "check_box(vote_num)\n",
    "vote_num = (vote_num)\n",
    "check_box(vote_num)\n",
    "for i in range(3):\n",
    "    vote_num = vote(vote_num)\n",
    "check_box(vote_num)\n",
    "vote_num = reset_box(vote_num)\n",
    "check_box(vote_num)"
   ]
  },
  {
   "cell_type": "code",
   "execution_count": 13,
   "metadata": {},
   "outputs": [
    {
     "output_type": "error",
     "ename": "SyntaxError",
     "evalue": "invalid character in identifier (<ipython-input-13-bede2c63e042>, line 2)",
     "traceback": [
      "\u001b[1;36m  File \u001b[1;32m\"<ipython-input-13-bede2c63e042>\"\u001b[1;36m, line \u001b[1;32m2\u001b[0m\n\u001b[1;33m    label =　\"票\"\u001b[0m\n\u001b[1;37m           ^\u001b[0m\n\u001b[1;31mSyntaxError\u001b[0m\u001b[1;31m:\u001b[0m invalid character in identifier\n"
     ]
    }
   ],
   "source": [
    "vote_box = []\n",
    "label =　\"票\"\n",
    "def vote():\n",
    "    print(\"投票します\")\n",
    "    vote_box.append(label)\n",
    "\n",
    "def reset_box():\n",
    "    print(\"箱を空にします\")\n",
    "    vote_box.clear()\n",
    "\n",
    "def check_box():\n",
    "    print(\"票の数は{}です\".format(len(vote_box)), end=\" \")"
   ]
  },
  {
   "cell_type": "code",
   "execution_count": null,
   "metadata": {},
   "outputs": [],
   "source": []
  }
 ]
}